{
 "cells": [
  {
   "cell_type": "code",
   "execution_count": 19,
   "id": "989a389e",
   "metadata": {},
   "outputs": [],
   "source": [
    "from swagger_client import Configuration, ApiClient, ModelsApi, LogApi, LogAsyncRequest\n"
   ]
  },
  {
   "cell_type": "code",
   "execution_count": 4,
   "id": "6db2c060",
   "metadata": {},
   "outputs": [],
   "source": [
    "config = Configuration()\n",
    "config.access_token = 'slxFoCK7N2.eh8HOdrnlD2O5pzsm1L125iza1lRAHi4qev9UGpOgwPjUBPxdb2QT'\n",
    "config.host = 'https://api.whylabsapp.com'\n",
    "config.api_key = {\"ApiKeyAuth\":'slxFoCK7N2.eh8HOdrnlD2O5pzsm1L125iza1lRAHi4qev9UGpOgwPjUBPxdb2QT'}"
   ]
  },
  {
   "cell_type": "code",
   "execution_count": 7,
   "id": "f4673ed9",
   "metadata": {},
   "outputs": [],
   "source": [
    "config = Configuration()\n",
    "config.access_token = 'slxFoCK7N2.eh8HOdrnlD2O5pzsm1L125iza1lRAHi4qev9UGpOgwPjUBPxdb2QT'\n",
    "config.host = 'https://api.whylabsapp.com'\n",
    "config.api_key = {\"X-API-Key\":'slxFoCK7N2.eh8HOdrnlD2O5pzsm1L125iza1lRAHi4qev9UGpOgwPjUBPxdb2QT'}\n",
    "\n",
    "client = ApiClient(config)\n",
    "api = ModelsApi(client)\n",
    "org_id = 'org-JpsdM6'\n",
    "models = api.list_models(org_id=org_id)\n"
   ]
  },
  {
   "cell_type": "code",
   "execution_count": 14,
   "id": "9447f6d8",
   "metadata": {},
   "outputs": [],
   "source": [
    "from swagger_client import Configuration, ApiClient, ModelsApi, LogApi\n"
   ]
  },
  {
   "cell_type": "code",
   "execution_count": 18,
   "id": "354f2dc5",
   "metadata": {},
   "outputs": [],
   "source": [
    "body = {\n",
    "  \"datasetTimestamp\": 0,\n",
    "  \"segmentTags\": [\n",
    "    {\n",
    "      \"key\": \"string\",\n",
    "      \"value\": \"string\"\n",
    "    }\n",
    "  ]\n",
    "}\n",
    "log = LogApi(client)\n",
    "response = log.log_async(org_id=org_id, dataset_id=\"model-1\", body=body)"
   ]
  },
  {
   "cell_type": "code",
   "execution_count": null,
   "id": "0dd8e5af",
   "metadata": {},
   "outputs": [],
   "source": [
    "request = LogAsyncRequest(dataset_timestamp=0)\n"
   ]
  }
 ],
 "metadata": {
  "kernelspec": {
   "display_name": "Python 3 (ipykernel)",
   "language": "python",
   "name": "python3"
  },
  "language_info": {
   "codemirror_mode": {
    "name": "ipython",
    "version": 3
   },
   "file_extension": ".py",
   "mimetype": "text/x-python",
   "name": "python",
   "nbconvert_exporter": "python",
   "pygments_lexer": "ipython3",
   "version": "3.8.15"
  }
 },
 "nbformat": 4,
 "nbformat_minor": 5
}
